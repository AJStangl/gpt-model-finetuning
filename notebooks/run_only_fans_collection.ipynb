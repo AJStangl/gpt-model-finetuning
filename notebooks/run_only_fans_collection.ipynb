{
 "cells": [
  {
   "cell_type": "code",
   "execution_count": null,
   "metadata": {
    "collapsed": true,
    "pycharm": {
     "name": "#%%\n"
    }
   },
   "outputs": [],
   "source": [
    "import logging\n",
    "from src.training_module.training_finetuning_collector import RedditFineTuningCollector\n",
    "\n",
    "logging.basicConfig(format='%(levelname)s:%(message)s', level=logging.INFO)\n",
    "\n",
    "subs = open(\"subreddits.txt\", \"r\").read().split(\",\")\n",
    "\n",
    "logging.info(\": Proessing the following subreddits\")\n",
    "for sub in subs:\n",
    "    logging.info(f\"=== Starting Collection For {sub} ===\")\n",
    "    await RedditFineTuningCollector().get_top_100(subreddit=sub, time_filter=\"week\")\n",
    "    logging.info(f\"=== Subreddit completed {sub} ===\")\n",
    "logging.info(f\"=== Process Complete ===\")"
   ]
  }
 ],
 "metadata": {
  "kernelspec": {
   "display_name": "Python 3",
   "language": "python",
   "name": "python3"
  },
  "language_info": {
   "codemirror_mode": {
    "name": "ipython",
    "version": 2
   },
   "file_extension": ".py",
   "mimetype": "text/x-python",
   "name": "python",
   "nbconvert_exporter": "python",
   "pygments_lexer": "ipython2",
   "version": "2.7.6"
  }
 },
 "nbformat": 4,
 "nbformat_minor": 0
}