{
 "cells": [
  {
   "cell_type": "code",
   "execution_count": null,
   "metadata": {
    "collapsed": true,
    "pycharm": {
     "name": "#%%\n"
    }
   },
   "outputs": [],
   "source": [
    "!pip install git+https://github.com/huggingface/transformers@main\n",
    "!pip install accelerate\n",
    "!pip install git+https://github.com/AJStangl/gpt-model-finetuning@master"
   ]
  },
  {
   "cell_type": "code",
   "execution_count": null,
   "outputs": [],
   "source": [
    "from torch.utils.data import Dataset, random_split\n",
    "from transformers import GPT2Tokenizer, GPT2LMHeadModel\n",
    "from transformers import TrainingArguments, Trainer\n",
    "import gc\n",
    "import os\n",
    "import logging\n",
    "import pandas\n",
    "import torch\n",
    "import gc\n",
    "from src.datasets.reddit_dataset import RedditDataset\n",
    "import pandas\n",
    "import torch\n",
    "from torch.utils.data import Dataset, random_split\n",
    "from transformers import GPT2Tokenizer, GPT2LMHeadModel\n",
    "from transformers import TrainingArguments, Trainer\n",
    "import logging"
   ],
   "metadata": {
    "collapsed": false,
    "pycharm": {
     "name": "#%%\n"
    }
   }
  },
  {
   "cell_type": "code",
   "execution_count": null,
   "outputs": [],
   "source": [
    "parent_directory = \"/content/drive/MyDrive/RawData\"\n",
    "\n",
    "out_dir = f\"{parent_directory}/mega_pablo_bot\"\n",
    "\n",
    "tokenizer_path = f\"{out_dir}\"\n",
    "\n",
    "data_path = f\"{out_dir}/filtered_all.txt\"\n",
    "\n",
    "\n",
    "check_point_name = 'checkpoint-3000'\n",
    "\n",
    "continue_path = f\"{out_dir}/{check_point_name}\""
   ],
   "metadata": {
    "collapsed": false,
    "pycharm": {
     "name": "#%%\n"
    }
   }
  },
  {
   "cell_type": "code",
   "execution_count": null,
   "outputs": [],
   "source": [
    "tokenizer = GPT2Tokenizer.from_pretrained(out_dir)\n",
    "model = GPT2LMHeadModel.from_pretrained(continue_path).cuda()"
   ],
   "metadata": {
    "collapsed": false,
    "pycharm": {
     "name": "#%%\n"
    }
   }
  },
  {
   "cell_type": "code",
   "execution_count": null,
   "outputs": [],
   "source": [
    "from src.datasets.reddit_dataset import RedditDataset\n",
    "\n",
    "generator = torch.Generator()\n",
    "\n",
    "generator.manual_seed(0)\n",
    "\n",
    "valid_lines = open(data_path, 'r', encoding='utf-8').readlines()\n",
    "\n",
    "logging.info(f\":: Total Number Of Samples {len(valid_lines)}\")\n",
    "\n",
    "max_length = max([len(tokenizer.encode(prompt)) for prompt in valid_lines])\n",
    "\n",
    "logging.info(f\":: Max Length Of Sample {max_length}\")\n",
    "\n",
    "dataset = RedditDataset(valid_lines, tokenizer, max_length=max_length)\n",
    "\n",
    "train_size = int(0.9 * len(dataset))\n",
    "\n",
    "train_dataset, eval_dataset = random_split(dataset, [train_size, len(dataset) - train_size], generator=generator)"
   ],
   "metadata": {
    "collapsed": false,
    "pycharm": {
     "name": "#%%\n"
    }
   }
  },
  {
   "cell_type": "code",
   "execution_count": null,
   "outputs": [],
   "source": [
    "training_args = TrainingArguments(output_dir=out_dir)\n",
    "training_args.num_train_epochs = 5\n",
    "training_args.logging_steps=100\n",
    "training_args.save_steps=1000\n",
    "training_args.weight_decay=0.05\n",
    "training_args.logging_dir='./logs'\n",
    "training_args.fp16=True\n",
    "training_args.auto_find_batch_size=True\n",
    "training_args.gradient_accumulation_steps=50\n",
    "training_args.learning_rate=1e-4"
   ],
   "metadata": {
    "collapsed": false,
    "pycharm": {
     "name": "#%%\n"
    }
   }
  },
  {
   "cell_type": "code",
   "execution_count": null,
   "outputs": [],
   "source": [
    "Trainer(model=model,\n",
    "        args=training_args,\n",
    "        train_dataset=train_dataset,\n",
    "        eval_dataset=eval_dataset,\n",
    "        data_collator=lambda data: {'input_ids': torch.stack([f[0] for f in data]), 'attention_mask': torch.stack([f[1] for f in data]),\n",
    "                                    'labels': torch.stack([f[0] for f in data])}).train(continue_path)"
   ],
   "metadata": {
    "collapsed": false,
    "pycharm": {
     "name": "#%%\n"
    }
   }
  }
 ],
 "metadata": {
  "kernelspec": {
   "display_name": "Python 3",
   "language": "python",
   "name": "python3"
  },
  "language_info": {
   "codemirror_mode": {
    "name": "ipython",
    "version": 2
   },
   "file_extension": ".py",
   "mimetype": "text/x-python",
   "name": "python",
   "nbconvert_exporter": "python",
   "pygments_lexer": "ipython2",
   "version": "2.7.6"
  }
 },
 "nbformat": 4,
 "nbformat_minor": 0
}