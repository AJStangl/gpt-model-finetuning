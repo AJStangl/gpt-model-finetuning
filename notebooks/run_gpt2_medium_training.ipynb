{
 "cells": [
  {
   "cell_type": "markdown",
   "source": [
    "GPT2-Medium Fine-Tuning With T4 Configuration\n",
    "---\n",
    "\n",
    "This notebook is an example on how to create a fine-tuned gpt2-model based on reddit training data from a run on [collection notebook](run_only_fans_collection.ipynb)\n",
    "\n",
    "This configuration is known to run for a file with 3000 samples in the training file. It will run for 10 epochs distributing load across all available GPUs. Number of batches is auto-calculated."
   ],
   "metadata": {
    "collapsed": false,
    "pycharm": {
     "name": "#%% md\n"
    }
   }
  },
  {
   "cell_type": "code",
   "execution_count": null,
   "metadata": {
    "collapsed": true,
    "pycharm": {
     "name": "#%%\n"
    }
   },
   "outputs": [],
   "source": [
    "!pip install git+https://github.com/huggingface/transformers@main\n",
    "!pip install accelerate\n",
    "!pip install git+https://github.com/AJStangl/gpt-model-finetuning@master"
   ]
  },
  {
   "cell_type": "code",
   "execution_count": null,
   "outputs": [],
   "source": [
    "\n",
    "import pandas\n",
    "import torch\n",
    "from torch.utils.data import random_split\n",
    "from transformers import GPT2Tokenizer, GPT2LMHeadModel\n",
    "from transformers import TrainingArguments, Trainer\n",
    "\n",
    "from src.datasets.reddit_dataset import RedditDataset"
   ],
   "metadata": {
    "collapsed": false,
    "pycharm": {
     "name": "#%%\n"
    }
   }
  },
  {
   "cell_type": "code",
   "execution_count": null,
   "outputs": [],
   "source": [
    "model_name = \"mega_legal_bot\"\n",
    "\n",
    "parent_directory = \"/content/drive/MyDrive/RawData\"\n",
    "\n",
    "model_output_dir = f\"{parent_directory}/{model_name}\"\n",
    "\n",
    "tokenizer_path = f\"{model_output_dir}\"\n",
    "\n",
    "training_data_path = f\"/content/drive/MyDrive/RawData/training.csv\""
   ],
   "metadata": {
    "collapsed": false,
    "pycharm": {
     "name": "#%%\n"
    }
   }
  },
  {
   "cell_type": "code",
   "execution_count": null,
   "outputs": [],
   "source": [
    "tokenizer = GPT2Tokenizer.from_pretrained('gpt2-medium',\n",
    "\t\t\t\t\t\t\t\t\t\t  bos_token='<|startoftext|>',\n",
    "\t\t\t\t\t\t\t\t\t\t  eos_token='<|endoftext|>',\n",
    "\t\t\t\t\t\t\t\t\t\t  pad_token='<|pad|>')\n",
    "\n",
    "tokenizer.save_pretrained(model_output_dir)\n",
    "\n",
    "model = GPT2LMHeadModel.from_pretrained('gpt2').cuda()"
   ],
   "metadata": {
    "collapsed": false,
    "pycharm": {
     "name": "#%%\n"
    }
   }
  },
  {
   "cell_type": "code",
   "execution_count": null,
   "outputs": [],
   "source": [
    "def has_valid_line(input: str) -> bool:\n",
    "    black_list = [\"**NO SIGN**\", \"**Image Stats:**\", \"**INCOMPLETE MEAT TUBE**\", \"[removed]\",\"[deleted]\", 'Unfortunately, your post was removed for the following reason(s)']\n",
    "    for line in black_list:\n",
    "        if input.__contains__(line):\n",
    "            return False\n",
    "        else:\n",
    "            return True"
   ],
   "metadata": {
    "collapsed": false,
    "pycharm": {
     "name": "#%%\n"
    }
   }
  },
  {
   "cell_type": "code",
   "execution_count": null,
   "outputs": [],
   "source": [
    "def token_length_appropriate(prompt) -> bool:\n",
    "    \"\"\"\n",
    "    Ensures that the total number of encoded tokens is within acceptable limits.\n",
    "    :param tokenizer: An instance of the tokenizer being used.\n",
    "    :param prompt: UTF-8 Text that is assumed to have been processed.\n",
    "    :return: True if acceptable.\n",
    "    \"\"\"\n",
    "    tokens = tokenizer.tokenize(prompt)\n",
    "    if len(tokens) > 1024:\n",
    "        print(f\":: Tokens for model input is > {1024}. Skipping input\")\n",
    "        return False\n",
    "    else:\n",
    "        return True"
   ],
   "metadata": {
    "collapsed": false,
    "pycharm": {
     "name": "#%%\n"
    }
   }
  },
  {
   "cell_type": "code",
   "execution_count": null,
   "outputs": [],
   "source": [
    "df = pandas.read_csv(training_data_path)\n",
    "\n",
    "conversations = list(df['TrainingString'])\n",
    "\n",
    "valid_lines = []\n",
    "for conversation in conversations:\n",
    "    if has_valid_line(conversation) and token_length_appropriate(conversation):\n",
    "        valid_lines.append(conversation)"
   ],
   "metadata": {
    "collapsed": false,
    "pycharm": {
     "name": "#%%\n"
    }
   }
  },
  {
   "cell_type": "code",
   "execution_count": null,
   "outputs": [],
   "source": [
    "generator = torch.Generator()\n",
    "\n",
    "generator.manual_seed(0)\n",
    "\n",
    "print(f\":: Total Number Of Samples {len(valid_lines)}\")\n",
    "\n",
    "max_length = max([len(tokenizer.encode(prompt)) for prompt in valid_lines])\n",
    "\n",
    "model.resize_token_embeddings(len(tokenizer))\n",
    "\n",
    "print(f\":: Max Length Of Sample {max_length}\")\n",
    "\n",
    "dataset = RedditDataset(valid_lines, tokenizer, max_length=max_length)\n",
    "\n",
    "train_size = int(0.9 * len(dataset))\n",
    "\n",
    "train_dataset, eval_dataset = random_split(dataset, [train_size, len(dataset) - train_size], generator=generator)"
   ],
   "metadata": {
    "collapsed": false,
    "pycharm": {
     "name": "#%%\n"
    }
   }
  },
  {
   "cell_type": "code",
   "execution_count": null,
   "outputs": [],
   "source": [
    "training_args = TrainingArguments(output_dir=model_output_dir)\n",
    "training_args.num_train_epochs = 5\n",
    "training_args.logging_steps=100\n",
    "training_args.save_steps=1000\n",
    "training_args.weight_decay=0.05\n",
    "training_args.logging_dir='./logs'\n",
    "training_args.fp16=True\n",
    "training_args.auto_find_batch_size=True\n",
    "training_args.gradient_accumulation_steps=50\n",
    "training_args.learning_rate=1e-4"
   ],
   "metadata": {
    "collapsed": false,
    "pycharm": {
     "name": "#%%\n"
    }
   }
  },
  {
   "cell_type": "code",
   "execution_count": null,
   "outputs": [],
   "source": [
    "Trainer(model=model, args=training_args, train_dataset=train_dataset,\n",
    "\t\teval_dataset=eval_dataset, data_collator=lambda data: {'input_ids': torch.stack([f[0] for f in data]),\n",
    "\t\t\t\t\t\t\t\t\t\t\t\t\t\t\t   'attention_mask': torch.stack([f[1] for f in data]),\n",
    "\t\t\t\t\t\t\t\t\t\t\t\t\t\t\t   'labels': torch.stack([f[0] for f in data])\n",
    "\t\t\t\t\t\t\t\t\t\t\t\t\t\t\t   }).train()"
   ],
   "metadata": {
    "collapsed": false,
    "pycharm": {
     "name": "#%%\n"
    }
   }
  }
 ],
 "metadata": {
  "kernelspec": {
   "display_name": "Python 3",
   "language": "python",
   "name": "python3"
  },
  "language_info": {
   "codemirror_mode": {
    "name": "ipython",
    "version": 2
   },
   "file_extension": ".py",
   "mimetype": "text/x-python",
   "name": "python",
   "nbconvert_exporter": "python",
   "pygments_lexer": "ipython2",
   "version": "2.7.6"
  }
 },
 "nbformat": 4,
 "nbformat_minor": 0
}