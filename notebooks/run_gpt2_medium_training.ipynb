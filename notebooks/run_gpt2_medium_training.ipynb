{
 "cells": [
  {
   "cell_type": "code",
   "execution_count": null,
   "metadata": {
    "collapsed": true,
    "pycharm": {
     "name": "#%%\n"
    }
   },
   "outputs": [],
   "source": [
    "import gc\n",
    "\n",
    "import pandas\n",
    "import torch\n",
    "from torch.utils.data import random_split\n",
    "from transformers import GPT2Tokenizer, GPT2LMHeadModel\n",
    "from transformers import TrainingArguments, Trainer\n",
    "\n",
    "from src.datasets.reddit_dataset import RedditDataset\n",
    "from src.tensor_encoding.tensor_encoding import TensorHelper\n",
    "\n",
    "tokenizer = GPT2Tokenizer.from_pretrained('gpt2-medium', bos_token='<|startoftext|>', eos_token='<|endoftext|>',\n",
    "\t\t\t\t\t\t\t\t\t\t  pad_token='<|pad|>')\n",
    "\n",
    "tokenizer.save_pretrained('./results/tokenizer')\n",
    "\n",
    "model = GPT2LMHeadModel.from_pretrained('gpt2-medium').cuda()\n",
    "\n",
    "df = pandas.read_csv(\"training.csv\")\n",
    "\n",
    "conversations = df['TrainingString']\n",
    "\n",
    "valid_prompts = []\n",
    "for conversation in conversations:\n",
    "\tencoded = TensorHelper.encode_and_check(tokenizer, conversation)\n",
    "\tif encoded is not None:\n",
    "\t\tvalid_prompts.append(encoded)\n",
    "\n",
    "max_length = max([len(tokenizer.encode(prompt)) for prompt in valid_prompts])\n",
    "\n",
    "model.resize_token_embeddings(len(tokenizer))\n",
    "\n",
    "dataset = RedditDataset(valid_prompts, tokenizer, max_length=max_length)\n",
    "\n",
    "train_size = int(0.9 * len(dataset))\n",
    "\n",
    "train_dataset, eval_dataset = random_split(dataset, [train_size, len(dataset) - train_size])\n",
    "\n",
    "gc.collect()\n",
    "\n",
    "torch.cuda.empty_cache()\n",
    "\n",
    "args = dict(\n",
    "\toutput_dir='./results',\n",
    "\tnum_train_epochs=20,\n",
    "\tlogging_steps=100,\n",
    "\tsave_steps=1000,\n",
    "\t# Allow the computer to be smarter than you...\n",
    "\t# per_device_train_batch_size=2,\n",
    "\t# per_device_eval_batch_size=2,\n",
    "\tweight_decay=0.05,\n",
    "\tlogging_dir='./logs',\n",
    "\treport_to='none',\n",
    "\tfp16=True,\n",
    "\tauto_find_batch_size=True,\n",
    "\tgradient_accumulation_steps=10,\n",
    "\tlearning_rate=1e-4)\n",
    "\n",
    "training_args = TrainingArguments(**args)\n",
    "\n",
    "Trainer(model=model, args=training_args, train_dataset=train_dataset,\n",
    "\t\teval_dataset=eval_dataset, data_collator=lambda data: {'input_ids': torch.stack([f[0] for f in data]),\n",
    "\t\t\t\t\t\t\t\t\t\t\t\t\t\t\t   'attention_mask': torch.stack([f[1] for f in data]),\n",
    "\t\t\t\t\t\t\t\t\t\t\t\t\t\t\t   'labels': torch.stack([f[0] for f in data])\n",
    "\t\t\t\t\t\t\t\t\t\t\t\t\t\t\t   }).train()"
   ]
  }
 ],
 "metadata": {
  "kernelspec": {
   "display_name": "Python 3",
   "language": "python",
   "name": "python3"
  },
  "language_info": {
   "codemirror_mode": {
    "name": "ipython",
    "version": 2
   },
   "file_extension": ".py",
   "mimetype": "text/x-python",
   "name": "python",
   "nbconvert_exporter": "python",
   "pygments_lexer": "ipython2",
   "version": "2.7.6"
  }
 },
 "nbformat": 4,
 "nbformat_minor": 0
}